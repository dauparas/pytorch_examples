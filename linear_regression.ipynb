{
  "nbformat": 4,
  "nbformat_minor": 0,
  "metadata": {
    "colab": {
      "name": "linear_regression.ipynb",
      "version": "0.3.2",
      "provenance": [],
      "collapsed_sections": [],
      "include_colab_link": true
    },
    "kernelspec": {
      "name": "python3",
      "display_name": "Python 3"
    },
    "accelerator": "GPU"
  },
  "cells": [
    {
      "cell_type": "markdown",
      "metadata": {
        "id": "view-in-github",
        "colab_type": "text"
      },
      "source": [
        "<a href=\"https://colab.research.google.com/github/dauparas/pytorch_examples/blob/master/linear_regression.ipynb\" target=\"_parent\"><img src=\"https://colab.research.google.com/assets/colab-badge.svg\" alt=\"Open In Colab\"/></a>"
      ]
    },
    {
      "cell_type": "markdown",
      "metadata": {
        "id": "LUiT1ZZMGc4-",
        "colab_type": "text"
      },
      "source": [
        "# Create some data"
      ]
    },
    {
      "cell_type": "code",
      "metadata": {
        "id": "0XvtfLPnGS6c",
        "colab_type": "code",
        "colab": {}
      },
      "source": [
        "import time\n",
        "import numpy as np\n",
        "import matplotlib.pyplot as plt\n",
        "%matplotlib inline\n",
        "plt.style.use('dark_background')\n",
        "\n",
        "N = 500\n",
        "X = np.random.uniform(-1.0, 1.0, N)\n",
        "Y = 0.25*X+0.05*np.random.normal(0.0, 1.0, N)\n",
        "\n",
        "X = X[:, np.newaxis]\n",
        "Y = Y[:, np.newaxis]"
      ],
      "execution_count": 0,
      "outputs": []
    },
    {
      "cell_type": "code",
      "metadata": {
        "id": "-2qQnMixHDGY",
        "colab_type": "code",
        "colab": {
          "base_uri": "https://localhost:8080/",
          "height": 283
        },
        "outputId": "8fb1faf2-fcf2-4760-fabd-67dd7509e689"
      },
      "source": [
        "plt.scatter(X, Y, s=3.0);\n",
        "plt.xlabel('X');\n",
        "plt.ylabel('Y');"
      ],
      "execution_count": 159,
      "outputs": [
        {
          "output_type": "display_data",
          "data": {
            "image/png": "[encoded data removed]",
            "text/plain": [
              "<Figure size 432x288 with 1 Axes>"
            ]
          },
          "metadata": {
            "tags": []
          }
        }
      ]
    },
    {
      "cell_type": "markdown",
      "metadata": {
        "id": "ffjp0bEXKp1U",
        "colab_type": "text"
      },
      "source": [
        "# PyTorch model"
      ]
    },
    {
      "cell_type": "code",
      "metadata": {
        "id": "6S6yYoBvHI13",
        "colab_type": "code",
        "colab": {}
      },
      "source": [
        "import torch\n",
        "import torch.nn.functional as F\n",
        "import torch.nn as nn\n",
        "from torch.utils.data import Dataset, DataLoader"
      ],
      "execution_count": 0,
      "outputs": []
    },
    {
      "cell_type": "code",
      "metadata": {
        "id": "YStZc_maPgFJ",
        "colab_type": "code",
        "colab": {}
      },
      "source": [
        "class MyDataset(Dataset):\n",
        "    def __init__(self, data, target):\n",
        "        self.data = torch.from_numpy(data).float()\n",
        "        self.target = torch.from_numpy(target).float()\n",
        "        \n",
        "    def __getitem__(self, index):\n",
        "        x = self.data[index]\n",
        "        y = self.target[index]\n",
        "        return x, y\n",
        "    \n",
        "    def __len__(self):\n",
        "        return len(self.data)"
      ],
      "execution_count": 0,
      "outputs": []
    },
    {
      "cell_type": "code",
      "metadata": {
        "id": "4eCQzQNcQ1tA",
        "colab_type": "code",
        "colab": {}
      },
      "source": [
        "batch_size = 16\n",
        "random_seed = 0\n",
        "learning_rate = 1e-3\n",
        "num_epochs = 100"
      ],
      "execution_count": 0,
      "outputs": []
    },
    {
      "cell_type": "code",
      "metadata": {
        "id": "wAxGehOkPQmm",
        "colab_type": "code",
        "colab": {}
      },
      "source": [
        "dataset = MyDataset(X, Y)\n",
        "loader = DataLoader(dataset, batch_size=batch_size, shuffle=True, num_workers=2, pin_memory=torch.cuda.is_available())"
      ],
      "execution_count": 0,
      "outputs": []
    },
    {
      "cell_type": "code",
      "metadata": {
        "id": "NoxLOaurJZbM",
        "colab_type": "code",
        "colab": {
          "base_uri": "https://localhost:8080/",
          "height": 34
        },
        "outputId": "48b2ac49-b6f3-4d15-b157-17f7a95216a9"
      },
      "source": [
        "device = torch.device(\"cuda:0\" if torch.cuda.is_available() else \"cpu\")\n",
        "print(device)"
      ],
      "execution_count": 166,
      "outputs": [
        {
          "output_type": "stream",
          "text": [
            "cuda:0\n"
          ],
          "name": "stdout"
        }
      ]
    },
    {
      "cell_type": "code",
      "metadata": {
        "id": "qirIroFDJcQC",
        "colab_type": "code",
        "colab": {}
      },
      "source": [
        "class LinearReg(torch.nn.Module):\n",
        "\n",
        "    def __init__(self, num_features):\n",
        "        super(LinearReg, self).__init__()\n",
        "        \n",
        "        self.linear_1 = nn.Linear(num_features, 1)\n",
        "        \n",
        "    def forward(self, x):\n",
        "        out = self.linear_1(x)\n",
        "        return out\n",
        "\n",
        "torch.manual_seed(random_seed)\n",
        "model = LinearReg(num_features=X.shape[1])\n",
        "model = model.to(device)\n",
        "optimizer = torch.optim.Adam(model.parameters(), lr=learning_rate)"
      ],
      "execution_count": 0,
      "outputs": []
    },
    {
      "cell_type": "code",
      "metadata": {
        "id": "at-wtCyAKxSf",
        "colab_type": "code",
        "colab": {
          "base_uri": "https://localhost:8080/",
          "height": 238
        },
        "outputId": "a7fdcfb5-a162-4fad-a41f-c4e105636c2e"
      },
      "source": [
        "%%time\n",
        "for epoch in range(num_epochs):\n",
        "    model.train()\n",
        "    criterion = nn.MSELoss()\n",
        "    for batch_idx, (features, targets) in enumerate(loader):\n",
        "        \n",
        "        features = features.to(device)\n",
        "        targets = targets.to(device)\n",
        "            \n",
        "        logits = model(features)\n",
        "        cost = criterion(logits, targets)\n",
        "        optimizer.zero_grad()\n",
        "        cost.backward()\n",
        "  \n",
        "        optimizer.step()\n",
        "\n",
        "    if (epoch+1) % 10 == 0 or epoch == 0 :\n",
        "      print ('Epoch: %03d | Cost: %.4f' %(epoch+1, cost))"
      ],
      "execution_count": 168,
      "outputs": [
        {
          "output_type": "stream",
          "text": [
            "Epoch: 001 | Cost: 0.2323\n",
            "Epoch: 010 | Cost: 0.0922\n",
            "Epoch: 020 | Cost: 0.0197\n",
            "Epoch: 030 | Cost: 0.0029\n",
            "Epoch: 040 | Cost: 0.0029\n",
            "Epoch: 050 | Cost: 0.0006\n",
            "Epoch: 060 | Cost: 0.0011\n",
            "Epoch: 070 | Cost: 0.0016\n",
            "Epoch: 080 | Cost: 0.0096\n",
            "Epoch: 090 | Cost: 0.0005\n",
            "Epoch: 100 | Cost: 0.0024\n",
            "CPU times: user 9.1 s, sys: 5.85 s, total: 14.9 s\n",
            "Wall time: 17.3 s\n"
          ],
          "name": "stdout"
        }
      ]
    },
    {
      "cell_type": "code",
      "metadata": {
        "id": "SBY-_cplWQtG",
        "colab_type": "code",
        "colab": {}
      },
      "source": [
        "model.eval()\n",
        "logits_ = []\n",
        "features_ = []\n",
        "cost_ = 0.0\n",
        "with torch.no_grad():\n",
        "  for batch_idx, (features, targets) in enumerate(loader):\n",
        "    features = features.to(device)\n",
        "    targets = targets.to(device)\n",
        "    logits = model(features)\n",
        "    cost = criterion(logits, targets)\n",
        "\n",
        "    logits_.append(logits)\n",
        "    features_.append(features)\n",
        "    cost_ += cost*features.size(0)/X.shape[0]\n",
        "\n",
        "  logits_ = torch.cat(logits_, dim=0)\n",
        "  features_ = torch.cat(features_, dim=0)\n",
        "\n",
        "  cost_ = cost_.cpu().numpy()\n",
        "  logits_ = logits_.cpu().numpy()\n",
        "  features_ = features_.cpu().numpy()"
      ],
      "execution_count": 0,
      "outputs": []
    },
    {
      "cell_type": "code",
      "metadata": {
        "colab_type": "code",
        "outputId": "5332079b-b47e-4624-b849-5e31a93ff472",
        "id": "wSd9aDhrpxzM",
        "colab": {
          "base_uri": "https://localhost:8080/",
          "height": 283
        }
      },
      "source": [
        "plt.scatter(X, Y, s=3.0);\n",
        "plt.scatter(features_, logits_, s=3.0);\n",
        "plt.axis('equal');\n",
        "plt.xlabel('X');\n",
        "plt.ylabel('Y');\n",
        "plt.legend(('data', 'model'));"
      ],
      "execution_count": 170,
      "outputs": [
        {
          "output_type": "display_data",
          "data": {
            "image/png": "[encoded data removed]",
            "text/plain": [
              "<Figure size 432x288 with 1 Axes>"
            ]
          },
          "metadata": {
            "tags": []
          }
        }
      ]
    },
    {
      "cell_type": "code",
      "metadata": {
        "id": "-oXZWr8JtP2Z",
        "colab_type": "code",
        "colab": {}
      },
      "source": [
        ""
      ],
      "execution_count": 0,
      "outputs": []
    }
  ]
}