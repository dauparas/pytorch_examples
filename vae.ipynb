{
  "nbformat": 4,
  "nbformat_minor": 0,
  "metadata": {
    "colab": {
      "name": "vae.ipynb",
      "provenance": [],
      "collapsed_sections": [],
      "include_colab_link": true
    },
    "kernelspec": {
      "name": "python3",
      "display_name": "Python 3"
    },
    "accelerator": "GPU"
  },
  "cells": [
    {
      "cell_type": "markdown",
      "metadata": {
        "id": "view-in-github",
        "colab_type": "text"
      },
      "source": [
        "<a href=\"https://colab.research.google.com/github/dauparas/pytorch_examples/blob/master/vae.ipynb\" target=\"_parent\"><img src=\"https://colab.research.google.com/assets/colab-badge.svg\" alt=\"Open In Colab\"/></a>"
      ]
    },
    {
      "cell_type": "markdown",
      "metadata": {
        "id": "DzODVJc9Llfd",
        "colab_type": "text"
      },
      "source": [
        "Inspiration from https://github.com/rasbt/deeplearning-models/blob/master/pytorch_ipynb/autoencoder/ae-basic.ipynb"
      ]
    },
    {
      "cell_type": "markdown",
      "metadata": {
        "id": "EYfdD7Wl0-xw",
        "colab_type": "text"
      },
      "source": [
        "This VAE does not produce good examples..."
      ]
    },
    {
      "cell_type": "code",
      "metadata": {
        "id": "ZUvE14QH-r7U",
        "colab_type": "code",
        "colab": {}
      },
      "source": [
        "import time\n",
        "from numbers import Number\n",
        "import numpy as np\n",
        "import torch\n",
        "import torch.nn.functional as F\n",
        "from torchvision import datasets\n",
        "from torchvision import transforms\n",
        "\n",
        "import torch.nn as nn\n",
        "from torch.utils.data import Dataset, DataLoader"
      ],
      "execution_count": 0,
      "outputs": []
    },
    {
      "cell_type": "code",
      "metadata": {
        "id": "Wcs-frWV-4Nj",
        "colab_type": "code",
        "outputId": "71273958-8b26-4ed0-b440-861cb5e676fc",
        "colab": {
          "base_uri": "https://localhost:8080/",
          "height": 34
        }
      },
      "source": [
        "device = torch.device(\"cuda:0\" if torch.cuda.is_available() else \"cpu\")\n",
        "print(device)"
      ],
      "execution_count": 2,
      "outputs": [
        {
          "output_type": "stream",
          "text": [
            "cuda:0\n"
          ],
          "name": "stdout"
        }
      ]
    },
    {
      "cell_type": "code",
      "metadata": {
        "id": "SsVZIuzh_FfV",
        "colab_type": "code",
        "colab": {}
      },
      "source": [
        "batch_size = 64\n",
        "random_seed = 0"
      ],
      "execution_count": 0,
      "outputs": []
    },
    {
      "cell_type": "code",
      "metadata": {
        "id": "PxnhDlDl-8kO",
        "colab_type": "code",
        "outputId": "c5771f80-923c-4ada-9331-8aaa0e0d35cc",
        "colab": {
          "base_uri": "https://localhost:8080/",
          "height": 51
        }
      },
      "source": [
        "train_dataset = datasets.MNIST(root='data', \n",
        "                               train=True, \n",
        "                               transform=transforms.ToTensor(),\n",
        "                               download=True)\n",
        "\n",
        "test_dataset = datasets.MNIST(root='data', \n",
        "                              train=False, \n",
        "                              transform=transforms.ToTensor())\n",
        "\n",
        "\n",
        "train_loader = DataLoader(dataset=train_dataset, \n",
        "                          batch_size=batch_size, \n",
        "                          shuffle=True, num_workers=1, pin_memory=torch.cuda.is_available())\n",
        "\n",
        "test_loader = DataLoader(dataset=test_dataset, \n",
        "                         batch_size=batch_size, \n",
        "                         shuffle=False, num_workers=1, pin_memory=torch.cuda.is_available())\n",
        "\n",
        "# Checking the dataset\n",
        "for images, labels in train_loader:  \n",
        "    print('Image batch dimensions:', images.shape)\n",
        "    print('Image label dimensions:', labels.shape)\n",
        "    break"
      ],
      "execution_count": 4,
      "outputs": [
        {
          "output_type": "stream",
          "text": [
            "Image batch dimensions: torch.Size([64, 1, 28, 28])\n",
            "Image label dimensions: torch.Size([64])\n"
          ],
          "name": "stdout"
        }
      ]
    },
    {
      "cell_type": "code",
      "metadata": {
        "id": "uTfCh0TYigsk",
        "colab_type": "code",
        "colab": {}
      },
      "source": [
        "class Encoder(nn.Module):\n",
        "  def __init__(self, input_size, latent_size):\n",
        "    super(Encoder, self).__init__()\n",
        "\n",
        "    self.lin1 = nn.Linear(input_size, 512)\n",
        "    self.lin2 = nn.Linear(512, 256)\n",
        "    self.lin3 = nn.Linear(256, 128)\n",
        "    self.lin4 = nn.Linear(128, 128)\n",
        "    self.lin_mu = nn.Linear(128, latent_size)\n",
        "    self.lin_logvar = nn.Linear(128, latent_size)\n",
        "\n",
        "  def forward(self, x):\n",
        "    h = F.relu(self.lin1(x))\n",
        "    h = F.relu(self.lin2(h))\n",
        "    h = F.relu(self.lin3(h))\n",
        "    h = F.relu(self.lin4(h))\n",
        "    mu = self.lin_mu(h)\n",
        "    logvar = self.lin_logvar(h)\n",
        "    # logvar = 0.0*torch.ones_like(mu)\n",
        "\n",
        "    return mu, logvar\n",
        "\n",
        "class Decoder(nn.Module):\n",
        "  def __init__(self, latent_size, output_size):\n",
        "    super(Decoder, self).__init__()\n",
        "\n",
        "    self.lin1 = nn.Linear(latent_size, 128)\n",
        "    self.lin2 = nn.Linear(128, 128)\n",
        "    self.lin3 = nn.Linear(128, 256)\n",
        "    self.lin4 = nn.Linear(256, 512)\n",
        "    self.lin5 = nn.Linear(512, output_size)\n",
        "  \n",
        "  def forward(self, x):\n",
        "    h = F.relu(self.lin1(x))\n",
        "    h = F.relu(self.lin2(h))\n",
        "    h = F.relu(self.lin3(h))\n",
        "    h = F.relu(self.lin4(h))\n",
        "    h = self.lin5(h)\n",
        "    return h\n",
        "\n",
        "class VAE(nn.Module):\n",
        "  def __init__(self, encoder, decoder, device):\n",
        "    super(VAE, self).__init__()\n",
        "\n",
        "    self.encoder = encoder\n",
        "    self.decoder = decoder\n",
        "\n",
        "\n",
        "  def reparameterize(self, z_mu, z_logvar):\n",
        "        eps = torch.randn(z_mu.size(0), z_mu.size(1)).to(device)\n",
        "        z = z_mu + eps * torch.exp(z_logvar/2.) \n",
        "        return z\n",
        "\n",
        "  def forward(self, x):\n",
        "    z_mean, z_logvar = self.encoder(x)\n",
        "    z_sample = self.reparameterize(z_mean, z_logvar)\n",
        "    out = self.decoder(z_sample)\n",
        "    return z_mean, z_logvar, z_sample, out"
      ],
      "execution_count": 0,
      "outputs": []
    },
    {
      "cell_type": "code",
      "metadata": {
        "id": "13EiJ5oMAxy5",
        "colab_type": "code",
        "colab": {}
      },
      "source": [
        "torch.manual_seed(random_seed)\n",
        "z_dim = 32\n",
        "encoder = Encoder(input_size=28*28, latent_size=z_dim)\n",
        "decoder = Decoder(latent_size=z_dim, output_size=28*28)\n",
        "vae = VAE(encoder, decoder, device=device)\n",
        "vae.to(device)\n",
        "\n",
        "optimizer = torch.optim.Adam(vae.parameters(), lr=1e-3)"
      ],
      "execution_count": 0,
      "outputs": []
    },
    {
      "cell_type": "code",
      "metadata": {
        "id": "GMSpRfsAm1td",
        "colab_type": "code",
        "outputId": "943696aa-e265-467d-8793-4aeee86f14d8",
        "colab": {
          "base_uri": "https://localhost:8080/",
          "height": 34
        }
      },
      "source": [
        "device"
      ],
      "execution_count": 23,
      "outputs": [
        {
          "output_type": "execute_result",
          "data": {
            "text/plain": [
              "device(type='cuda', index=0)"
            ]
          },
          "metadata": {
            "tags": []
          },
          "execution_count": 23
        }
      ]
    },
    {
      "cell_type": "code",
      "metadata": {
        "id": "01cbZiE9BjmT",
        "colab_type": "code",
        "outputId": "0ee71c92-6cc6-415c-f2a4-f95b185245ec",
        "colab": {
          "base_uri": "https://localhost:8080/",
          "height": 1000
        }
      },
      "source": [
        "%%time\n",
        "num_epochs = 5\n",
        "count = 0\n",
        "for epoch in range(num_epochs):\n",
        "    for batch_idx, (features, _) in enumerate(train_loader):\n",
        "        count+=1\n",
        "        # don't need labels, only the images (features)\n",
        "        features = features.view(-1, 28*28).to(device)\n",
        "            \n",
        "        ### FORWARD AND BACK PROP\n",
        "        z_mean, z_logvar, z_sample, out = vae(features)\n",
        "        probs = F.softmax(out)\n",
        "        recon_loss = -((features*torch.log(probs+1e-9)).sum(-1)).mean()\n",
        "        kl_divergence = (0.5 * (z_mean**2 + \n",
        "                                torch.exp(z_logvar) - z_logvar - 1)).sum()\n",
        "\n",
        "        beta = 1e-1\n",
        "        loss = recon_loss + beta*kl_divergence\n",
        "\n",
        "        optimizer.zero_grad()\n",
        "\n",
        "        loss.backward()\n",
        "        optimizer.step()\n",
        "\n",
        "        ### LOGGING\n",
        "        if not batch_idx % 70:\n",
        "            print ('Epoch: %03d/%03d | Batch %03d/%03d | Loss: %.4f' \n",
        "                   %(epoch+1, num_epochs, batch_idx, \n",
        "                     len(train_loader), loss))"
      ],
      "execution_count": 24,
      "outputs": [
        {
          "output_type": "stream",
          "text": [
            "/usr/local/lib/python3.6/dist-packages/ipykernel_launcher.py:11: UserWarning: Implicit dimension choice for softmax has been deprecated. Change the call to include dim=X as an argument.\n",
            "  # This is added back by InteractiveShellApp.init_path()\n"
          ],
          "name": "stderr"
        },
        {
          "output_type": "stream",
          "text": [
            "Epoch: 001/005 | Batch 000/938 | Loss: 720.7264\n",
            "Epoch: 001/005 | Batch 070/938 | Loss: 624.0195\n",
            "Epoch: 001/005 | Batch 140/938 | Loss: 612.5306\n",
            "Epoch: 001/005 | Batch 210/938 | Loss: 595.0056\n",
            "Epoch: 001/005 | Batch 280/938 | Loss: 600.7156\n",
            "Epoch: 001/005 | Batch 350/938 | Loss: 603.5895\n",
            "Epoch: 001/005 | Batch 420/938 | Loss: 585.9449\n",
            "Epoch: 001/005 | Batch 490/938 | Loss: 541.4843\n",
            "Epoch: 001/005 | Batch 560/938 | Loss: 570.5176\n",
            "Epoch: 001/005 | Batch 630/938 | Loss: 625.4771\n",
            "Epoch: 001/005 | Batch 700/938 | Loss: 609.2444\n",
            "Epoch: 001/005 | Batch 770/938 | Loss: 620.5820\n",
            "Epoch: 001/005 | Batch 840/938 | Loss: 611.0286\n",
            "Epoch: 001/005 | Batch 910/938 | Loss: 536.8458\n",
            "Epoch: 002/005 | Batch 000/938 | Loss: 609.6708\n",
            "Epoch: 002/005 | Batch 070/938 | Loss: 603.9909\n",
            "Epoch: 002/005 | Batch 140/938 | Loss: 577.8770\n",
            "Epoch: 002/005 | Batch 210/938 | Loss: 595.2786\n",
            "Epoch: 002/005 | Batch 280/938 | Loss: 604.4547\n",
            "Epoch: 002/005 | Batch 350/938 | Loss: 633.6688\n",
            "Epoch: 002/005 | Batch 420/938 | Loss: 591.6342\n",
            "Epoch: 002/005 | Batch 490/938 | Loss: 547.3535\n",
            "Epoch: 002/005 | Batch 560/938 | Loss: 590.2476\n",
            "Epoch: 002/005 | Batch 630/938 | Loss: 577.7805\n",
            "Epoch: 002/005 | Batch 700/938 | Loss: 613.7084\n",
            "Epoch: 002/005 | Batch 770/938 | Loss: 602.8052\n",
            "Epoch: 002/005 | Batch 840/938 | Loss: 587.6663\n",
            "Epoch: 002/005 | Batch 910/938 | Loss: 604.8396\n",
            "Epoch: 003/005 | Batch 000/938 | Loss: 608.8638\n",
            "Epoch: 003/005 | Batch 070/938 | Loss: 565.5914\n",
            "Epoch: 003/005 | Batch 140/938 | Loss: 541.8212\n",
            "Epoch: 003/005 | Batch 210/938 | Loss: 588.5156\n",
            "Epoch: 003/005 | Batch 280/938 | Loss: 603.6957\n",
            "Epoch: 003/005 | Batch 350/938 | Loss: 604.0986\n",
            "Epoch: 003/005 | Batch 420/938 | Loss: 592.0234\n",
            "Epoch: 003/005 | Batch 490/938 | Loss: 567.2831\n",
            "Epoch: 003/005 | Batch 560/938 | Loss: 570.8774\n",
            "Epoch: 003/005 | Batch 630/938 | Loss: 633.8132\n",
            "Epoch: 003/005 | Batch 700/938 | Loss: 617.6237\n",
            "Epoch: 003/005 | Batch 770/938 | Loss: 548.9933\n",
            "Epoch: 003/005 | Batch 840/938 | Loss: 566.6126\n",
            "Epoch: 003/005 | Batch 910/938 | Loss: 573.7167\n",
            "Epoch: 004/005 | Batch 000/938 | Loss: 597.7458\n",
            "Epoch: 004/005 | Batch 070/938 | Loss: 587.2236\n",
            "Epoch: 004/005 | Batch 140/938 | Loss: 628.9280\n",
            "Epoch: 004/005 | Batch 210/938 | Loss: 587.9039\n",
            "Epoch: 004/005 | Batch 280/938 | Loss: 581.9550\n",
            "Epoch: 004/005 | Batch 350/938 | Loss: 555.5525\n",
            "Epoch: 004/005 | Batch 420/938 | Loss: 589.3318\n",
            "Epoch: 004/005 | Batch 490/938 | Loss: 583.0234\n",
            "Epoch: 004/005 | Batch 560/938 | Loss: 581.7751\n",
            "Epoch: 004/005 | Batch 630/938 | Loss: 588.7557\n",
            "Epoch: 004/005 | Batch 700/938 | Loss: 635.0488\n",
            "Epoch: 004/005 | Batch 770/938 | Loss: 607.9021\n",
            "Epoch: 004/005 | Batch 840/938 | Loss: 618.8792\n",
            "Epoch: 004/005 | Batch 910/938 | Loss: 617.3686\n",
            "Epoch: 005/005 | Batch 000/938 | Loss: 604.9199\n",
            "Epoch: 005/005 | Batch 070/938 | Loss: 586.1799\n",
            "Epoch: 005/005 | Batch 140/938 | Loss: 612.3098\n",
            "Epoch: 005/005 | Batch 210/938 | Loss: 567.0258\n",
            "Epoch: 005/005 | Batch 280/938 | Loss: 594.2233\n",
            "Epoch: 005/005 | Batch 350/938 | Loss: 546.4299\n",
            "Epoch: 005/005 | Batch 420/938 | Loss: 604.9521\n",
            "Epoch: 005/005 | Batch 490/938 | Loss: 577.9238\n",
            "Epoch: 005/005 | Batch 560/938 | Loss: 578.7505\n",
            "Epoch: 005/005 | Batch 630/938 | Loss: 563.5507\n",
            "Epoch: 005/005 | Batch 700/938 | Loss: 634.2867\n",
            "Epoch: 005/005 | Batch 770/938 | Loss: 605.9672\n",
            "Epoch: 005/005 | Batch 840/938 | Loss: 600.3357\n",
            "Epoch: 005/005 | Batch 910/938 | Loss: 583.0986\n",
            "CPU times: user 43.3 s, sys: 2.46 s, total: 45.8 s\n",
            "Wall time: 46.7 s\n"
          ],
          "name": "stdout"
        }
      ]
    },
    {
      "cell_type": "code",
      "metadata": {
        "id": "_OLgrGIfEOeo",
        "colab_type": "code",
        "outputId": "dcba7552-ae5a-44ef-940a-896399a3fd39",
        "colab": {
          "base_uri": "https://localhost:8080/",
          "height": 187
        }
      },
      "source": [
        "%matplotlib inline\n",
        "import matplotlib.pyplot as plt\n",
        "\n",
        "%matplotlib inline\n",
        "plt.style.use('dark_background')\n",
        "\n",
        "\n",
        "n_images = 10\n",
        "image_width = 28\n",
        "\n",
        "fig, axes = plt.subplots(nrows=2, ncols=n_images, \n",
        "                         sharex=True, sharey=True, figsize=(20, 2.5))\n",
        "orig_images = features[:n_images]\n",
        "decoded_images = out[:n_images]\n",
        "\n",
        "for i in range(n_images):\n",
        "    for ax, img in zip(axes, [orig_images, decoded_images]):\n",
        "        curr_img = img[i].detach().to(torch.device('cpu'))\n",
        "        ax[i].imshow(curr_img.view((image_width, image_width)), cmap='binary')"
      ],
      "execution_count": 25,
      "outputs": [
        {
          "output_type": "display_data",
          "data": {
            "image/png": "[encoded data removed]",
            "text/plain": [
              "<Figure size 1440x180 with 20 Axes>"
            ]
          },
          "metadata": {
            "tags": []
          }
        }
      ]
    },
    {
      "cell_type": "code",
      "metadata": {
        "id": "6TWGD--w09E2",
        "colab_type": "code",
        "colab": {}
      },
      "source": [
        ""
      ],
      "execution_count": 0,
      "outputs": []
    }
  ]
}