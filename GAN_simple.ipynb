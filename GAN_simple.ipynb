{
  "nbformat": 4,
  "nbformat_minor": 0,
  "metadata": {
    "kernelspec": {
      "name": "python3",
      "display_name": "Python 3"
    },
    "language_info": {
      "codemirror_mode": {
        "name": "ipython",
        "version": 3
      },
      "file_extension": ".py",
      "mimetype": "text/x-python",
      "name": "python",
      "nbconvert_exporter": "python",
      "pygments_lexer": "ipython3",
      "version": "3.5.2"
    },
    "colab": {
      "name": "GAN_simple.ipynb",
      "version": "0.3.2",
      "provenance": [],
      "collapsed_sections": [],
      "include_colab_link": true
    },
    "accelerator": "GPU"
  },
  "cells": [
    {
      "cell_type": "markdown",
      "metadata": {
        "id": "view-in-github",
        "colab_type": "text"
      },
      "source": [
        "<a href=\"https://colab.research.google.com/github/dauparas/pytorch_examples/blob/master/GAN_simple.ipynb\" target=\"_parent\"><img src=\"https://colab.research.google.com/assets/colab-badge.svg\" alt=\"Open In Colab\"/></a>"
      ]
    },
    {
      "cell_type": "markdown",
      "metadata": {
        "id": "ExOmRg2ISSKo",
        "colab_type": "text"
      },
      "source": [
        "# Learning about GANs\n",
        "http://www.nowozin.net/sebastian/talks/mlss2018/MLSS%202018%20-%20Nowozin%20-%20GANs%20introduction.pdf\n",
        "\n",
        "https://www.youtube.com/watch?v=knuq6qMDfrs\n",
        "\n",
        "https://github.com/nowozin/mlss2018-madrid-gan\n",
        "\n",
        "## GAN Example: Univariate Density Estimation\n",
        "\n",
        "* _Author_: Sebastian Nowozin (Sebastian.Nowozin@microsoft.com)\n",
        "* _Date_: 16th July 2018"
      ]
    },
    {
      "cell_type": "code",
      "metadata": {
        "id": "xWdkScm5gJIg",
        "colab_type": "code",
        "colab": {}
      },
      "source": [
        "import math\n",
        "import numpy as np\n",
        "import scipy.stats\n",
        "import matplotlib.pyplot as plt"
      ],
      "execution_count": 0,
      "outputs": []
    },
    {
      "cell_type": "code",
      "metadata": {
        "id": "Kphgxh0ZgJIj",
        "colab_type": "code",
        "colab": {}
      },
      "source": [
        "df = 40.0\n",
        "tdist = scipy.stats.t(df)"
      ],
      "execution_count": 0,
      "outputs": []
    },
    {
      "cell_type": "markdown",
      "metadata": {
        "id": "qaX1TC0egJIm",
        "colab_type": "text"
      },
      "source": [
        "Generate training data"
      ]
    },
    {
      "cell_type": "code",
      "metadata": {
        "id": "rf1-T4MVgJIn",
        "colab_type": "code",
        "colab": {}
      },
      "source": [
        "ntrain = 5000\n",
        "Xtrain = tdist.rvs(ntrain)"
      ],
      "execution_count": 0,
      "outputs": []
    },
    {
      "cell_type": "markdown",
      "metadata": {
        "id": "g38_CnSpgJIo",
        "colab_type": "text"
      },
      "source": [
        "Plot the training data and the true _probability density function_ (pdf)."
      ]
    },
    {
      "cell_type": "code",
      "metadata": {
        "id": "0GE6rIOBgJIp",
        "colab_type": "code",
        "outputId": "09c9c00f-b06b-4206-8f7e-df7d55042fe0",
        "colab": {
          "base_uri": "https://localhost:8080/",
          "height": 296
        }
      },
      "source": [
        "fig, ax = plt.subplots(2,1, figsize=(9.5,4.5))\n",
        "xmin = tdist.ppf(0.01)\n",
        "xmax = tdist.ppf(0.99)\n",
        "xs = np.linspace(tdist.ppf(0.01), tdist.ppf(0.99), 100)\n",
        "ax[0].hist(Xtrain, xs, label=\"train hist\")\n",
        "ax[0].legend()\n",
        "ax[1].plot(xs, tdist.pdf(xs), 'k-', lw=1.5, label=\"true pdf\")\n",
        "ax[1].legend();"
      ],
      "execution_count": 21,
      "outputs": [
        {
          "output_type": "display_data",
          "data": {
            "image/png": "[encoded data removed]",
            "text/plain": [
              "<Figure size 684x324 with 2 Axes>"
            ]
          },
          "metadata": {
            "tags": []
          }
        }
      ]
    },
    {
      "cell_type": "markdown",
      "metadata": {
        "id": "whtwbbExgJIt",
        "colab_type": "text"
      },
      "source": [
        "## GAN Model"
      ]
    },
    {
      "cell_type": "code",
      "metadata": {
        "id": "dM-io0WSgJIt",
        "colab_type": "code",
        "colab": {}
      },
      "source": [
        "import torch\n",
        "import torch.nn as nn\n",
        "import torch.nn.functional as F\n",
        "import torch.optim as optim\n",
        "from torch.autograd import Variable"
      ],
      "execution_count": 0,
      "outputs": []
    },
    {
      "cell_type": "code",
      "metadata": {
        "id": "MbYAUGPmgJIv",
        "colab_type": "code",
        "colab": {}
      },
      "source": [
        "class ConjugateDualFunction:\n",
        "    def __init__(self, divergence_name):\n",
        "        self.divergence_name = divergence_name\n",
        "\n",
        "    def T(self, v):\n",
        "        \"\"\"Compute T(v) repersentation\n",
        "        \n",
        "        Arguments\n",
        "        v -- The scalar output (full real number range) of the discriminator\n",
        "        \"\"\"\n",
        "        if self.divergence_name == \"kl\":\n",
        "            return v\n",
        "        elif self.divergence_name == \"klrev\":\n",
        "            return -F.exp(v)\n",
        "        elif self.divergence_name == \"pearson\":\n",
        "            return v\n",
        "        elif self.divergence_name == \"neyman\":\n",
        "            return 1.0 - F.exp(v)\n",
        "        elif self.divergence_name == \"hellinger\":\n",
        "            return 1.0 - F.exp(v)\n",
        "        elif self.divergence_name == \"jensen\":\n",
        "            return math.log(2.0) - F.softplus(-v)\n",
        "        elif self.divergence_name == \"gan\":\n",
        "            return -F.softplus(-v)\n",
        "        else:\n",
        "            raise ValueError(\"Unknown divergence name in t function.\")\n",
        "\n",
        "    def fstarT(self, v):\n",
        "        \"\"\"Compute the f^*(T(v)) representation\n",
        "        \n",
        "        Arguments\n",
        "        v -- The scalar output of the variational function neural network.\n",
        "        \"\"\"\n",
        "        if self.divergence_name == \"kl\":\n",
        "            return torch.exp(v - 1.0)\n",
        "        elif self.divergence_name == \"klrev\":\n",
        "            return -1.0 - v\n",
        "        elif self.divergence_name == \"pearson\":\n",
        "            return 0.25*v*v + v\n",
        "        elif self.divergence_name == \"neyman\":\n",
        "            return 2.0 - 2.0*F.exp(0.5*v)\n",
        "        elif self.divergence_name == \"hellinger\":\n",
        "            return F.exp(-v) - 1.0\n",
        "        elif self.divergence_name == \"jensen\":\n",
        "            return F.softplus(v) - math.log(2.0)\n",
        "        elif self.divergence_name == \"gan\":\n",
        "            return F.softplus(v)\n",
        "        else:\n",
        "            raise ValueError(\"Unknown divergence name in fstar_t function.\")"
      ],
      "execution_count": 0,
      "outputs": []
    },
    {
      "cell_type": "code",
      "metadata": {
        "id": "W6lYDsTygJIx",
        "colab_type": "code",
        "colab": {}
      },
      "source": [
        "class Generator(nn.Module):\n",
        "    def __init__(self, nhidden):\n",
        "        super(Generator, self).__init__()\n",
        "        self.lin1 = nn.Linear(1, nhidden)\n",
        "        self.lin2 = nn.Linear(nhidden, 1)\n",
        "\n",
        "    def forward(self, z):\n",
        "        h = F.relu(self.lin1(z))\n",
        "        x = self.lin2(h)\n",
        "        return x\n",
        "\n",
        "class Discriminator(nn.Module):\n",
        "    def __init__(self, nhidden):\n",
        "        super(Discriminator, self).__init__()\n",
        "        self.lin1 = nn.Linear(1, nhidden)\n",
        "        self.lin2 = nn.Linear(nhidden, 1)\n",
        "\n",
        "    def forward(self, x):\n",
        "        h = F.relu(self.lin1(x))\n",
        "        v = self.lin2(h)\n",
        "        return v"
      ],
      "execution_count": 0,
      "outputs": []
    },
    {
      "cell_type": "code",
      "metadata": {
        "id": "3QrrglyqgJIz",
        "colab_type": "code",
        "colab": {}
      },
      "source": [
        "class FGANLearningObjective(nn.Module):\n",
        "    def __init__(self, gen, disc, divergence_name=\"gan\", gamma=10.0):\n",
        "        super(FGANLearningObjective, self).__init__()\n",
        "        self.gen = gen\n",
        "        self.disc = disc\n",
        "        self.conj = ConjugateDualFunction(divergence_name)\n",
        "        self.gammahalf = 0.5*gamma\n",
        "\n",
        "    def forward(self, xreal, zmodel):\n",
        "        # Real data\n",
        "        vreal = self.disc(xreal)    # Real data discriminator output\n",
        "        Treal = self.conj.T(vreal)  # Mapped to T-space\n",
        "\n",
        "        # Model data\n",
        "        xmodel = self.gen(zmodel)   # Map noise to data\n",
        "        vmodel = self.disc(xmodel)  # Model data discriminator output\n",
        "        fstar_Tmodel = self.conj.fstarT(vmodel)   # Mapped to f^*(T)\n",
        "\n",
        "        # Compute generator loss\n",
        "        loss_gen = -fstar_Tmodel.mean()\n",
        "\n",
        "        # Compute discriminator loss (negation because we minimize)\n",
        "        loss_disc = fstar_Tmodel.mean() - Treal.mean()\n",
        "\n",
        "        # Compute gradient penalty as per (Mescheder et al., ICML 2018)\n",
        "        if self.gammahalf > 0.0:\n",
        "            batchsize = xreal.size(0)\n",
        "            grad_pd = torch.autograd.grad(Treal.sum(), xreal,\n",
        "                create_graph=True, only_inputs=True)[0]\n",
        "            grad_pd_norm2 = grad_pd.pow(2)\n",
        "            grad_pd_norm2 = grad_pd_norm2.view(batchsize, -1).sum(1)\n",
        "            gradient_penalty = self.gammahalf * grad_pd_norm2.mean()\n",
        "            loss_disc += gradient_penalty\n",
        "\n",
        "        return loss_gen, loss_disc"
      ],
      "execution_count": 0,
      "outputs": []
    },
    {
      "cell_type": "code",
      "metadata": {
        "id": "dUVpVE-fgJI2",
        "colab_type": "code",
        "colab": {}
      },
      "source": [
        "gen = Generator(64)\n",
        "disc = Discriminator(64)\n",
        "fgan = FGANLearningObjective(gen, disc, \"gan\", gamma=1.0)"
      ],
      "execution_count": 0,
      "outputs": []
    },
    {
      "cell_type": "code",
      "metadata": {
        "id": "UEsB-T1hgJI5",
        "colab_type": "code",
        "colab": {}
      },
      "source": [
        "batchsize = 256\n",
        "optimizer_gen = optim.Adam(fgan.gen.parameters(), lr=1.0e-3)\n",
        "optimizer_disc = optim.Adam(fgan.disc.parameters(), lr=1.0e-3)"
      ],
      "execution_count": 0,
      "outputs": []
    },
    {
      "cell_type": "code",
      "metadata": {
        "id": "EruHAE5igJI8",
        "colab_type": "code",
        "outputId": "cc73f562-b450-4c85-fe59-6d90dfe6cad3",
        "colab": {
          "base_uri": "https://localhost:8080/",
          "height": 272
        }
      },
      "source": [
        "niter = 15000\n",
        "for i in range(niter):\n",
        "    fgan.zero_grad()\n",
        "\n",
        "    # Generate real data (from known distribution) and noise\n",
        "    xreal = Variable(torch.Tensor(np.reshape(tdist.rvs(batchsize),\n",
        "        (batchsize,1))), requires_grad=True)\n",
        "    zmodel = Variable(torch.rand((batchsize,1)))\n",
        "\n",
        "    loss_gen, loss_disc = fgan(xreal, zmodel)\n",
        "    if i % 1000 == 1:\n",
        "        print(\"iter %d  obj(D) %.4f  obj(G) %.4f\" % (i, loss_disc, loss_gen))\n",
        "\n",
        "    fgan.gen.zero_grad()\n",
        "    loss_gen.backward(retain_graph=True)\n",
        "    optimizer_gen.step()\n",
        "\n",
        "    fgan.disc.zero_grad()\n",
        "    loss_disc.backward()\n",
        "    optimizer_disc.step()"
      ],
      "execution_count": 28,
      "outputs": [
        {
          "output_type": "stream",
          "text": [
            "iter 1  obj(D) 1.4070  obj(G) -0.6900\n",
            "iter 1001  obj(D) 1.3030  obj(G) -0.5303\n",
            "iter 2001  obj(D) 1.3663  obj(G) -0.6942\n",
            "iter 3001  obj(D) 1.3674  obj(G) -0.6815\n",
            "iter 4001  obj(D) 1.4045  obj(G) -0.7357\n",
            "iter 5001  obj(D) 1.3440  obj(G) -0.6783\n",
            "iter 6001  obj(D) 1.4007  obj(G) -0.7647\n",
            "iter 7001  obj(D) 1.3749  obj(G) -0.6617\n",
            "iter 8001  obj(D) 1.3764  obj(G) -0.6629\n",
            "iter 9001  obj(D) 1.3838  obj(G) -0.7196\n",
            "iter 10001  obj(D) 1.3837  obj(G) -0.7019\n",
            "iter 11001  obj(D) 1.3707  obj(G) -0.6243\n",
            "iter 12001  obj(D) 1.3700  obj(G) -0.6826\n",
            "iter 13001  obj(D) 1.4008  obj(G) -0.7047\n",
            "iter 14001  obj(D) 1.3944  obj(G) -0.7214\n"
          ],
          "name": "stdout"
        }
      ]
    },
    {
      "cell_type": "markdown",
      "metadata": {
        "id": "RYErOMhHgJI-",
        "colab_type": "text"
      },
      "source": [
        "## Visualize model results"
      ]
    },
    {
      "cell_type": "code",
      "metadata": {
        "id": "7xzyVqjegJI_",
        "colab_type": "code",
        "colab": {}
      },
      "source": [
        "n = 4096\n",
        "Xmodel = fgan.gen(Variable(torch.rand((n,1)), requires_grad=False)).detach().cpu()\n",
        "Xmodel = Xmodel.numpy()"
      ],
      "execution_count": 0,
      "outputs": []
    },
    {
      "cell_type": "code",
      "metadata": {
        "id": "tgyNwp8pgJJB",
        "colab_type": "code",
        "colab": {}
      },
      "source": [
        "xmin = min(np.percentile(Xmodel, 1.0), tdist.ppf(0.01))\n",
        "xmax = max(np.percentile(Xmodel, 99.0), tdist.ppf(0.99))\n",
        "nbins = 100\n",
        "xs = np.linspace(xmin, xmax, nbins)\n",
        "ydisc = fgan.disc(Variable(torch.Tensor(np.reshape(xs, (nbins,1)))))\n",
        "ydisc = ydisc.detach().cpu().numpy()"
      ],
      "execution_count": 0,
      "outputs": []
    },
    {
      "cell_type": "code",
      "metadata": {
        "id": "HuJu95krgJJC",
        "colab_type": "code",
        "outputId": "5ce7a0cb-1b77-44a9-9e0b-5bab367e6734",
        "colab": {
          "base_uri": "https://localhost:8080/",
          "height": 459
        }
      },
      "source": [
        "fig, ax = plt.subplots(3,1,figsize=(9.5,7.5))\n",
        "ax[0].hist(tdist.rvs(ntrain), xs, label=\"true hist\")\n",
        "ax[0].legend()\n",
        "ax[1].hist(Xmodel, xs, label=\"model hist\")\n",
        "ax[1].legend()\n",
        "ax[2].plot(xs, ydisc, \"k-\", label=\"disc T(x)\")\n",
        "ax[2].legend();"
      ],
      "execution_count": 31,
      "outputs": [
        {
          "output_type": "display_data",
          "data": {
            "image/png": "[encoded data removed]",
            "text/plain": [
              "<Figure size 684x540 with 3 Axes>"
            ]
          },
          "metadata": {
            "tags": []
          }
        }
      ]
    }
  ]
}